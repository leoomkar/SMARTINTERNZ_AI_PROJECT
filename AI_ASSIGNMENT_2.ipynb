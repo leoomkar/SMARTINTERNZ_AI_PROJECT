{
  "nbformat": 4,
  "nbformat_minor": 0,
  "metadata": {
    "colab": {
      "provenance": []
    },
    "kernelspec": {
      "name": "python3",
      "display_name": "Python 3"
    },
    "language_info": {
      "name": "python"
    }
  },
  "cells": [
    {
      "cell_type": "code",
      "execution_count": 51,
      "metadata": {
        "id": "z6UE_aBX_ZZh"
      },
      "outputs": [],
      "source": [
        "import pandas as pd\n",
        "import numpy as np\n",
        "from sklearn.model_selection import train_test_split\n",
        "from sklearn.preprocessing import LabelEncoder, StandardScaler"
      ]
    },
    {
      "cell_type": "code",
      "source": [
        "data = pd.read_csv('drug200.csv')"
      ],
      "metadata": {
        "id": "jrhr3Wif_g-_"
      },
      "execution_count": 52,
      "outputs": []
    },
    {
      "cell_type": "code",
      "source": [
        "X = data.iloc[: , :-1].values\n",
        "y = data.iloc[: , -1].values"
      ],
      "metadata": {
        "id": "W0F3a5EC_lP_"
      },
      "execution_count": 53,
      "outputs": []
    },
    {
      "cell_type": "code",
      "source": [
        "X[: , 1] = encoder.fit_transform(X[: , 1])\n",
        "X[: , 3] = encoder.fit_transform(X[: , 3])\n",
        "from sklearn.compose import ColumnTransformer\n",
        "from sklearn.preprocessing import OneHotEncoder\n",
        "ct = ColumnTransformer(transformers=[('encoder', OneHotEncoder(), [2])], remainder='passthrough')\n",
        "X = np.array(ct.fit_transform(X))"
      ],
      "metadata": {
        "id": "dhG58GWCB_ZH"
      },
      "execution_count": 54,
      "outputs": []
    },
    {
      "cell_type": "code",
      "source": [
        "encoder = LabelEncoder()\n",
        "y = encoder.fit_transform(y)"
      ],
      "metadata": {
        "id": "sCAdwZIn_oFP"
      },
      "execution_count": 55,
      "outputs": []
    },
    {
      "cell_type": "code",
      "source": [
        "X_train, X_test, y_train, y_test = train_test_split(X, y, test_size=0.2, random_state=42)"
      ],
      "metadata": {
        "id": "jluqBP0A_pkG"
      },
      "execution_count": 56,
      "outputs": []
    },
    {
      "cell_type": "code",
      "source": [
        "scaler = StandardScaler()\n",
        "X_train = scaler.fit_transform(X_train)\n",
        "X_test = scaler.transform(X_test)"
      ],
      "metadata": {
        "id": "K95sCt6W_rDX"
      },
      "execution_count": 57,
      "outputs": []
    },
    {
      "cell_type": "code",
      "source": [
        "import tensorflow as tf\n",
        "from tensorflow import keras\n",
        "ann = tf.keras.models.Sequential()\n",
        "ann.add(tf.keras.layers.Dense(units=64, activation='relu'))\n",
        "ann.add(tf.keras.layers.Dense(units=64, activation='relu'))\n",
        "ann.add(tf.keras.layers.Dense(units=64, activation='relu'))\n",
        "ann.add(tf.keras.layers.Dense(units=1, activation='sigmoid'))\n",
        "ann.compile(optimizer = 'adam', loss = 'binary_crossentropy', metrics = ['accuracy'])\n",
        "ann.fit(X_train, y_train, batch_size = 32, epochs = 100)"
      ],
      "metadata": {
        "colab": {
          "base_uri": "https://localhost:8080/"
        },
        "id": "AE-T1bir_xn1",
        "outputId": "c97f7d11-ceac-4557-8edf-2c24df7586c1"
      },
      "execution_count": 58,
      "outputs": [
        {
          "output_type": "stream",
          "name": "stdout",
          "text": [
            "Epoch 1/100\n",
            "5/5 [==============================] - 1s 3ms/step - loss: 0.6454 - accuracy: 0.3000\n",
            "Epoch 2/100\n",
            "5/5 [==============================] - 0s 3ms/step - loss: 0.2352 - accuracy: 0.1625\n",
            "Epoch 3/100\n",
            "5/5 [==============================] - 0s 2ms/step - loss: -0.1234 - accuracy: 0.1375\n",
            "Epoch 4/100\n",
            "5/5 [==============================] - 0s 3ms/step - loss: -0.6060 - accuracy: 0.1312\n",
            "Epoch 5/100\n",
            "5/5 [==============================] - 0s 2ms/step - loss: -1.0956 - accuracy: 0.1250\n",
            "Epoch 6/100\n",
            "5/5 [==============================] - 0s 2ms/step - loss: -1.8328 - accuracy: 0.1312\n",
            "Epoch 7/100\n",
            "5/5 [==============================] - 0s 2ms/step - loss: -2.7444 - accuracy: 0.1500\n",
            "Epoch 8/100\n",
            "5/5 [==============================] - 0s 2ms/step - loss: -3.9081 - accuracy: 0.1625\n",
            "Epoch 9/100\n",
            "5/5 [==============================] - 0s 2ms/step - loss: -5.4729 - accuracy: 0.1813\n",
            "Epoch 10/100\n",
            "5/5 [==============================] - 0s 2ms/step - loss: -7.3952 - accuracy: 0.2000\n",
            "Epoch 11/100\n",
            "5/5 [==============================] - 0s 2ms/step - loss: -9.8140 - accuracy: 0.2062\n",
            "Epoch 12/100\n",
            "5/5 [==============================] - 0s 2ms/step - loss: -13.3951 - accuracy: 0.2250\n",
            "Epoch 13/100\n",
            "5/5 [==============================] - 0s 2ms/step - loss: -17.8176 - accuracy: 0.2313\n",
            "Epoch 14/100\n",
            "5/5 [==============================] - 0s 2ms/step - loss: -23.6836 - accuracy: 0.2313\n",
            "Epoch 15/100\n",
            "5/5 [==============================] - 0s 2ms/step - loss: -31.4333 - accuracy: 0.2375\n",
            "Epoch 16/100\n",
            "5/5 [==============================] - 0s 2ms/step - loss: -40.7812 - accuracy: 0.2438\n",
            "Epoch 17/100\n",
            "5/5 [==============================] - 0s 2ms/step - loss: -52.5405 - accuracy: 0.2438\n",
            "Epoch 18/100\n",
            "5/5 [==============================] - 0s 2ms/step - loss: -67.5766 - accuracy: 0.2438\n",
            "Epoch 19/100\n",
            "5/5 [==============================] - 0s 2ms/step - loss: -85.3633 - accuracy: 0.2438\n",
            "Epoch 20/100\n",
            "5/5 [==============================] - 0s 2ms/step - loss: -107.0539 - accuracy: 0.2438\n",
            "Epoch 21/100\n",
            "5/5 [==============================] - 0s 2ms/step - loss: -135.0493 - accuracy: 0.2438\n",
            "Epoch 22/100\n",
            "5/5 [==============================] - 0s 2ms/step - loss: -166.6205 - accuracy: 0.2438\n",
            "Epoch 23/100\n",
            "5/5 [==============================] - 0s 2ms/step - loss: -207.0251 - accuracy: 0.2438\n",
            "Epoch 24/100\n",
            "5/5 [==============================] - 0s 3ms/step - loss: -257.2651 - accuracy: 0.2438\n",
            "Epoch 25/100\n",
            "5/5 [==============================] - 0s 2ms/step - loss: -310.7725 - accuracy: 0.2438\n",
            "Epoch 26/100\n",
            "5/5 [==============================] - 0s 2ms/step - loss: -377.7203 - accuracy: 0.2438\n",
            "Epoch 27/100\n",
            "5/5 [==============================] - 0s 2ms/step - loss: -457.3837 - accuracy: 0.2438\n",
            "Epoch 28/100\n",
            "5/5 [==============================] - 0s 2ms/step - loss: -548.3889 - accuracy: 0.2438\n",
            "Epoch 29/100\n",
            "5/5 [==============================] - 0s 2ms/step - loss: -643.9686 - accuracy: 0.2438\n",
            "Epoch 30/100\n",
            "5/5 [==============================] - 0s 2ms/step - loss: -768.0800 - accuracy: 0.2438\n",
            "Epoch 31/100\n",
            "5/5 [==============================] - 0s 2ms/step - loss: -905.8236 - accuracy: 0.2438\n",
            "Epoch 32/100\n",
            "5/5 [==============================] - 0s 2ms/step - loss: -1049.3928 - accuracy: 0.2438\n",
            "Epoch 33/100\n",
            "5/5 [==============================] - 0s 3ms/step - loss: -1226.3591 - accuracy: 0.2500\n",
            "Epoch 34/100\n",
            "5/5 [==============================] - 0s 2ms/step - loss: -1418.7947 - accuracy: 0.2500\n",
            "Epoch 35/100\n",
            "5/5 [==============================] - 0s 3ms/step - loss: -1642.8447 - accuracy: 0.2500\n",
            "Epoch 36/100\n",
            "5/5 [==============================] - 0s 2ms/step - loss: -1893.2292 - accuracy: 0.2562\n",
            "Epoch 37/100\n",
            "5/5 [==============================] - 0s 2ms/step - loss: -2144.8152 - accuracy: 0.2562\n",
            "Epoch 38/100\n",
            "5/5 [==============================] - 0s 2ms/step - loss: -2435.4663 - accuracy: 0.2625\n",
            "Epoch 39/100\n",
            "5/5 [==============================] - 0s 2ms/step - loss: -2810.1594 - accuracy: 0.2625\n",
            "Epoch 40/100\n",
            "5/5 [==============================] - 0s 3ms/step - loss: -3133.3423 - accuracy: 0.2688\n",
            "Epoch 41/100\n",
            "5/5 [==============================] - 0s 2ms/step - loss: -3576.6304 - accuracy: 0.2750\n",
            "Epoch 42/100\n",
            "5/5 [==============================] - 0s 2ms/step - loss: -4019.1528 - accuracy: 0.2750\n",
            "Epoch 43/100\n",
            "5/5 [==============================] - 0s 2ms/step - loss: -4498.6445 - accuracy: 0.2750\n",
            "Epoch 44/100\n",
            "5/5 [==============================] - 0s 3ms/step - loss: -5022.4116 - accuracy: 0.2750\n",
            "Epoch 45/100\n",
            "5/5 [==============================] - 0s 2ms/step - loss: -5618.7881 - accuracy: 0.2750\n",
            "Epoch 46/100\n",
            "5/5 [==============================] - 0s 3ms/step - loss: -6229.9189 - accuracy: 0.2812\n",
            "Epoch 47/100\n",
            "5/5 [==============================] - 0s 2ms/step - loss: -6942.7476 - accuracy: 0.2812\n",
            "Epoch 48/100\n",
            "5/5 [==============================] - 0s 3ms/step - loss: -7714.5029 - accuracy: 0.2812\n",
            "Epoch 49/100\n",
            "5/5 [==============================] - 0s 3ms/step - loss: -8431.9434 - accuracy: 0.2812\n",
            "Epoch 50/100\n",
            "5/5 [==============================] - 0s 2ms/step - loss: -9372.2520 - accuracy: 0.2812\n",
            "Epoch 51/100\n",
            "5/5 [==============================] - 0s 2ms/step - loss: -10310.1064 - accuracy: 0.2812\n",
            "Epoch 52/100\n",
            "5/5 [==============================] - 0s 3ms/step - loss: -11253.3223 - accuracy: 0.2812\n",
            "Epoch 53/100\n",
            "5/5 [==============================] - 0s 2ms/step - loss: -12466.0518 - accuracy: 0.2812\n",
            "Epoch 54/100\n",
            "5/5 [==============================] - 0s 2ms/step - loss: -13539.9434 - accuracy: 0.2812\n",
            "Epoch 55/100\n",
            "5/5 [==============================] - 0s 2ms/step - loss: -14866.2002 - accuracy: 0.2812\n",
            "Epoch 56/100\n",
            "5/5 [==============================] - 0s 2ms/step - loss: -16176.4189 - accuracy: 0.2812\n",
            "Epoch 57/100\n",
            "5/5 [==============================] - 0s 2ms/step - loss: -17640.6016 - accuracy: 0.2875\n",
            "Epoch 58/100\n",
            "5/5 [==============================] - 0s 2ms/step - loss: -19042.2910 - accuracy: 0.2875\n",
            "Epoch 59/100\n",
            "5/5 [==============================] - 0s 2ms/step - loss: -20642.4609 - accuracy: 0.2937\n",
            "Epoch 60/100\n",
            "5/5 [==============================] - 0s 2ms/step - loss: -22321.8047 - accuracy: 0.2937\n",
            "Epoch 61/100\n",
            "5/5 [==============================] - 0s 4ms/step - loss: -24173.1719 - accuracy: 0.2937\n",
            "Epoch 62/100\n",
            "5/5 [==============================] - 0s 3ms/step - loss: -26007.2793 - accuracy: 0.2937\n",
            "Epoch 63/100\n",
            "5/5 [==============================] - 0s 3ms/step - loss: -28250.5156 - accuracy: 0.2937\n",
            "Epoch 64/100\n",
            "5/5 [==============================] - 0s 2ms/step - loss: -30267.2070 - accuracy: 0.2937\n",
            "Epoch 65/100\n",
            "5/5 [==============================] - 0s 2ms/step - loss: -32522.2852 - accuracy: 0.2937\n",
            "Epoch 66/100\n",
            "5/5 [==============================] - 0s 2ms/step - loss: -34843.8164 - accuracy: 0.3000\n",
            "Epoch 67/100\n",
            "5/5 [==============================] - 0s 2ms/step - loss: -37536.7891 - accuracy: 0.3000\n",
            "Epoch 68/100\n",
            "5/5 [==============================] - 0s 2ms/step - loss: -40018.2461 - accuracy: 0.3063\n",
            "Epoch 69/100\n",
            "5/5 [==============================] - 0s 2ms/step - loss: -42708.2891 - accuracy: 0.3063\n",
            "Epoch 70/100\n",
            "5/5 [==============================] - 0s 2ms/step - loss: -45839.7578 - accuracy: 0.3063\n",
            "Epoch 71/100\n",
            "5/5 [==============================] - 0s 2ms/step - loss: -48787.1328 - accuracy: 0.3063\n",
            "Epoch 72/100\n",
            "5/5 [==============================] - 0s 2ms/step - loss: -51816.7422 - accuracy: 0.3063\n",
            "Epoch 73/100\n",
            "5/5 [==============================] - 0s 2ms/step - loss: -55411.2812 - accuracy: 0.3063\n",
            "Epoch 74/100\n",
            "5/5 [==============================] - 0s 2ms/step - loss: -59023.4766 - accuracy: 0.3063\n",
            "Epoch 75/100\n",
            "5/5 [==============================] - 0s 2ms/step - loss: -62514.3750 - accuracy: 0.3063\n",
            "Epoch 76/100\n",
            "5/5 [==============================] - 0s 2ms/step - loss: -66427.3594 - accuracy: 0.3063\n",
            "Epoch 77/100\n",
            "5/5 [==============================] - 0s 2ms/step - loss: -70179.0859 - accuracy: 0.3063\n",
            "Epoch 78/100\n",
            "5/5 [==============================] - 0s 3ms/step - loss: -74725.6641 - accuracy: 0.3063\n",
            "Epoch 79/100\n",
            "5/5 [==============================] - 0s 3ms/step - loss: -79071.9219 - accuracy: 0.3063\n",
            "Epoch 80/100\n",
            "5/5 [==============================] - 0s 3ms/step - loss: -83784.3281 - accuracy: 0.3063\n",
            "Epoch 81/100\n",
            "5/5 [==============================] - 0s 2ms/step - loss: -88723.2031 - accuracy: 0.3063\n",
            "Epoch 82/100\n",
            "5/5 [==============================] - 0s 2ms/step - loss: -93742.5469 - accuracy: 0.3063\n",
            "Epoch 83/100\n",
            "5/5 [==============================] - 0s 3ms/step - loss: -98730.9688 - accuracy: 0.3063\n",
            "Epoch 84/100\n",
            "5/5 [==============================] - 0s 3ms/step - loss: -104063.6719 - accuracy: 0.3063\n",
            "Epoch 85/100\n",
            "5/5 [==============================] - 0s 2ms/step - loss: -110098.4766 - accuracy: 0.3063\n",
            "Epoch 86/100\n",
            "5/5 [==============================] - 0s 3ms/step - loss: -115674.3516 - accuracy: 0.3063\n",
            "Epoch 87/100\n",
            "5/5 [==============================] - 0s 2ms/step - loss: -122035.0625 - accuracy: 0.3063\n",
            "Epoch 88/100\n",
            "5/5 [==============================] - 0s 2ms/step - loss: -128503.6719 - accuracy: 0.3063\n",
            "Epoch 89/100\n",
            "5/5 [==============================] - 0s 2ms/step - loss: -134908.1875 - accuracy: 0.3063\n",
            "Epoch 90/100\n",
            "5/5 [==============================] - 0s 2ms/step - loss: -141307.8750 - accuracy: 0.3063\n",
            "Epoch 91/100\n",
            "5/5 [==============================] - 0s 2ms/step - loss: -149162.2812 - accuracy: 0.3063\n",
            "Epoch 92/100\n",
            "5/5 [==============================] - 0s 2ms/step - loss: -156183.8438 - accuracy: 0.3063\n",
            "Epoch 93/100\n",
            "5/5 [==============================] - 0s 2ms/step - loss: -163710.0781 - accuracy: 0.3063\n",
            "Epoch 94/100\n",
            "5/5 [==============================] - 0s 3ms/step - loss: -172009.4062 - accuracy: 0.3063\n",
            "Epoch 95/100\n",
            "5/5 [==============================] - 0s 2ms/step - loss: -180229.7344 - accuracy: 0.3063\n",
            "Epoch 96/100\n",
            "5/5 [==============================] - 0s 2ms/step - loss: -188388.4688 - accuracy: 0.3063\n",
            "Epoch 97/100\n",
            "5/5 [==============================] - 0s 2ms/step - loss: -197671.1094 - accuracy: 0.3063\n",
            "Epoch 98/100\n",
            "5/5 [==============================] - 0s 2ms/step - loss: -206429.9531 - accuracy: 0.3063\n",
            "Epoch 99/100\n",
            "5/5 [==============================] - 0s 3ms/step - loss: -216415.5000 - accuracy: 0.3063\n",
            "Epoch 100/100\n",
            "5/5 [==============================] - 0s 2ms/step - loss: -225575.7812 - accuracy: 0.3063\n"
          ]
        },
        {
          "output_type": "execute_result",
          "data": {
            "text/plain": [
              "<keras.callbacks.History at 0x7f03fd7b57e0>"
            ]
          },
          "metadata": {},
          "execution_count": 58
        }
      ]
    },
    {
      "cell_type": "code",
      "source": [
        "random_data = np.array([[50, 1, 120, 80, 0.8, 35, 70]])\n",
        "random_data_scaled = scaler.transform(random_data)\n",
        "predictions = ann.predict(random_data_scaled)\n",
        "predicted_class = np.argmax(predictions[0])\n",
        "predicted_class_label = encoder.inverse_transform([predicted_class])[0]\n",
        "print(\"Predicted Class:\", predicted_class)\n",
        "print(\"Predicted Class Label:\", predicted_class_label)"
      ],
      "metadata": {
        "colab": {
          "base_uri": "https://localhost:8080/"
        },
        "id": "-_bffI0gDiB8",
        "outputId": "336180f8-58d7-482d-a43c-0daa54b4166d"
      },
      "execution_count": 59,
      "outputs": [
        {
          "output_type": "stream",
          "name": "stdout",
          "text": [
            "1/1 [==============================] - 0s 60ms/step\n",
            "Predicted Class: 0\n",
            "Predicted Class Label: DrugY\n"
          ]
        }
      ]
    }
  ]
}